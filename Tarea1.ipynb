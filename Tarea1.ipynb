{
 "cells": [
  {
   "cell_type": "markdown",
   "metadata": {},
   "source": [
    "### Product Development\n",
    "### Tarea 1\n",
    "\n",
    "#### Denis Alexis Solis\n",
    "#### 20 000 143"
   ]
  },
  {
   "cell_type": "markdown",
   "metadata": {},
   "source": [
    "##### Creando la clase y cada uno de sus métodos, al final se crea el @classmethod para importar archivos csv y con eso subir la información."
   ]
  },
  {
   "cell_type": "code",
   "execution_count": 270,
   "metadata": {},
   "outputs": [],
   "source": [
    "class regresion:\n",
    "    def __init__(self, X, y):\n",
    "        self.X = X\n",
    "        self.y = y\n",
    "        self.beta0 = None\n",
    "        self.beta1 = None\n",
    "        self.n = len(X)\n",
    "        \n",
    "        self.beta1 = float(((n*sum([X*y for X, y in zip(X,y)]))-(sum(X)*sum(y)))/((n*sum([X**2 for X in X]))-(sum(X)**2)))\n",
    "        self.beta0 = float((((sum([X**2 for X in X]))*sum(y))-(sum(X)*sum([X*y for X, y in zip(X, y)])))/((n*sum([X**2 for X in X]))-(sum(X)**2)))\n",
    "         \n",
    "    def predict(self, X):\n",
    "        X = [float(X) for X in X]\n",
    "        self.preds = [self.beta0+(self.beta1*X) for X in X]\n",
    "        return self.preds\n",
    "    \n",
    "    def r2(self):\n",
    "        self.r2 = 0\n",
    "        self.X = X \n",
    "        preds = [self.beta0+(self.beta1*X) for X in X]\n",
    "        y = self.y\n",
    "        self.avgy = sum(self.y)/self.n\n",
    "        self.denom = sum([(self.y-self.avgy)**2 for self.y in self.y])\n",
    "        self.numer = sum([(preds-y)**2 for preds, y in zip(preds, y)])\n",
    "        self.r2 = 1-(self.numer/self.denom)\n",
    "        return self.r2\n",
    "        \n",
    "    def r(self):\n",
    "        self.r = 0\n",
    "        self.r = self.r2**(1/2)\n",
    "        return self.r\n",
    "        \n",
    "    def getAllRegParams(self):\n",
    "        self.dic = {}\n",
    "        self.dic = {\"b0\": self.beta0, \"b1\": self.beta1, \"r2\": self.r2, \"r\": self.r}\n",
    "        return self.dic\n",
    "    \n",
    "    @classmethod\n",
    "    \n",
    "    def from_file(cls, filename):\n",
    "        with open(filename) as file:\n",
    "            y = []\n",
    "            x = []       \n",
    "            for line in file:\n",
    "                a = line.split(',')\n",
    "                a = [i.strip() for i in a]\n",
    "                y.append(float(a[0]))\n",
    "                x.append(float(a[1]))  \n",
    "        return x, y"
   ]
  },
  {
   "cell_type": "markdown",
   "metadata": {},
   "source": [
    "#### Probando la regresión con listas de valores para X y Y"
   ]
  },
  {
   "cell_type": "markdown",
   "metadata": {},
   "source": [
    "###### Creando las listas con los valores."
   ]
  },
  {
   "cell_type": "code",
   "execution_count": 271,
   "metadata": {},
   "outputs": [],
   "source": [
    "x1 = [53, 62, 92, 43, 44, 150, 148, 121, 43, 140]\n",
    "y1 = [7, 6, 5, 4, 6, 4, 3, 4, 7, 5]"
   ]
  },
  {
   "cell_type": "markdown",
   "metadata": {},
   "source": [
    "###### Utilizando la clase."
   ]
  },
  {
   "cell_type": "code",
   "execution_count": 272,
   "metadata": {},
   "outputs": [
    {
     "data": {
      "text/plain": [
       "(6.982526262922195, -0.021010337755828067)"
      ]
     },
     "execution_count": 272,
     "metadata": {},
     "output_type": "execute_result"
    }
   ],
   "source": [
    "# Pasando los valores de x1 y y1 para que genere los betas\n",
    "regresiona = regresion(x1, y1)\n",
    "regresiona.beta0, regresiona.beta1"
   ]
  },
  {
   "cell_type": "code",
   "execution_count": 273,
   "metadata": {},
   "outputs": [
    {
     "data": {
      "text/plain": [
       "(0.49927524513257715, 0.7065941162595236)"
      ]
     },
     "execution_count": 273,
     "metadata": {},
     "output_type": "execute_result"
    }
   ],
   "source": [
    "# Generando las predicciones con el metodo predict y validando el R2 y R\n",
    "predsa = regresiona.predict(x1)\n",
    "regresiona.r2(), regresiona.r()"
   ]
  },
  {
   "cell_type": "code",
   "execution_count": 274,
   "metadata": {},
   "outputs": [
    {
     "data": {
      "text/plain": [
       "{'b0': 6.982526262922195,\n",
       " 'b1': -0.021010337755828067,\n",
       " 'r2': 0.49927524513257715,\n",
       " 'r': 0.7065941162595236}"
      ]
     },
     "execution_count": 274,
     "metadata": {},
     "output_type": "execute_result"
    }
   ],
   "source": [
    "#Generando el diccionario con todos los parámetros\n",
    "regresiona.getAllRegParams()"
   ]
  },
  {
   "cell_type": "markdown",
   "metadata": {},
   "source": [
    "### Generando la regresión desde un dataset donde la primera columa es Y y la segunda X\n",
    "### Enlace al dataset: https://www.kaggle.com/karthickveerakumar/salary-data-simple-linear-regression/version/1"
   ]
  },
  {
   "cell_type": "code",
   "execution_count": 275,
   "metadata": {},
   "outputs": [],
   "source": [
    "# Pasando los valores de X y Y\n",
    "x, y  = regresion.from_file ('Salary_Data.csv')"
   ]
  },
  {
   "cell_type": "code",
   "execution_count": 283,
   "metadata": {},
   "outputs": [
    {
     "name": "stdout",
     "output_type": "stream",
     "text": [
      "[1.1, 1.3, 1.5, 2.0, 2.2, 2.9, 3.0, 3.2, 3.2, 3.7, 3.9, 4.0, 4.0, 4.1, 4.5, 4.9, 5.1, 5.3, 5.9, 6.0, 6.8, 7.1, 7.9, 8.2, 8.7, 9.0, 9.5, 9.6, 10.3, 10.5] [39343.0, 46205.0, 37731.0, 43525.0, 39891.0, 56642.0, 60150.0, 54445.0, 64445.0, 57189.0, 63218.0, 55794.0, 56957.0, 57081.0, 61111.0, 67938.0, 66029.0, 83088.0, 81363.0, 93940.0, 91738.0, 98273.0, 101302.0, 113812.0, 109431.0, 105582.0, 116969.0, 112635.0, 122391.0, 121872.0]\n"
     ]
    }
   ],
   "source": [
    "# Validando que los datos fueron cargados\n",
    "print(x, y)"
   ]
  }
 ],
 "metadata": {
  "kernelspec": {
   "display_name": "Python 3",
   "language": "python",
   "name": "python3"
  },
  "language_info": {
   "codemirror_mode": {
    "name": "ipython",
    "version": 3
   },
   "file_extension": ".py",
   "mimetype": "text/x-python",
   "name": "python",
   "nbconvert_exporter": "python",
   "pygments_lexer": "ipython3",
   "version": "3.8.5"
  }
 },
 "nbformat": 4,
 "nbformat_minor": 4
}
